{
 "cells": [
  {
   "cell_type": "code",
   "execution_count": 10,
   "metadata": {},
   "outputs": [],
   "source": [
    "import argparse\n",
    "import itertools\n",
    "import pandas as pd\n",
    "import numpy as np\n",
    "import matplotlib.pyplot as plt\n",
    "import math\n",
    "import os.path as osp\n",
    "import pickle\n",
    "from tqdm import tqdm\n",
    "import random\n",
    "from scipy.optimize import minimize\n",
    "from scipy.stats import norm\n",
    "import seaborn as sns\n",
    "\n",
    "# plt.rcParams['font.family'] = 'Times New Roman'"
   ]
  },
  {
   "cell_type": "code",
   "execution_count": 11,
   "metadata": {},
   "outputs": [],
   "source": [
    "def get_recurrence_quantification(src, istime=False, min_ts=None, step=None, recur_matrix=None, color_dict=None):\n",
    "    neighs, ts, eid  = ext_full_indices[src], ext_full_ts[src], ext_full_eid[src]\n",
    "    intervals = []\n",
    "    if not istime:\n",
    "        recur_matrix = np.zeros((len(neighs), len(neighs)))\n",
    "    else:\n",
    "        pass\n",
    "    for i in range(len(neighs)):\n",
    "        for j in range(i+1, len(neighs)):\n",
    "            if (neighs[j] == neighs[i]):\n",
    "                idxi, idxj = (i, j) if not istime else (int((ts[i] - min_ts) // step), int((ts[j] - min_ts) // step))\n",
    "                try:\n",
    "                    recur_matrix[idxi][idxj] += 1\n",
    "                except IndexError:\n",
    "                    import pdb; pdb.set_trace()\n",
    "    if not istime:\n",
    "        return recur_matrix, np.sum(recur_matrix)\n",
    "\n",
    "def tsort_original(i, indices, ts, eid):\n",
    "    if not len(indices):\n",
    "        return\n",
    "    try:\n",
    "        sidx = np.argsort(ts)\n",
    "        indices = np.array(indices)[sidx]\n",
    "        ts = np.array(ts)[sidx]\n",
    "        eid = np.array(eid)[sidx]\n",
    "    except TypeError:\n",
    "        import pdb; pdb.set_trace()\n"
   ]
  },
  {
   "cell_type": "code",
   "execution_count": 17,
   "metadata": {},
   "outputs": [
    {
     "name": "stdout",
     "output_type": "stream",
     "text": [
      "Namespace(data=None, all_data=True, add_reverse=False, bins=1000, file_path='')\n"
     ]
    }
   ],
   "source": [
    "parser = argparse.ArgumentParser()\n",
    "parser.add_argument('--data', type=str, help='dataset name')\n",
    "parser.add_argument('--all_data', action='store_true')\n",
    "parser.add_argument('--add_reverse', default=False, action='store_true')\n",
    "parser.add_argument('--bins', type=int, default=-1)\n",
    "parser.add_argument('--file_path', type=str, default='')\n",
    "args = parser.parse_args(args=['--all_data', '--bins', '1000'])\n",
    "print(args)\n",
    "\n",
    "datasets = ['WIKI', 'REDDIT', 'Flights', 'LASTFM', 'mooc', 'uci', 'CollegeMsg']\n",
    "show_datasets = {\n",
    "    'WIKI': 'Wikipedia',\n",
    "    'REDDIT': 'REDDIT',\n",
    "    'Flights': 'Flights',\n",
    "    'LASTFM': 'LASTFM',\n",
    "    'mooc': 'MOOC',\n",
    "    'uci': 'UCI',\n",
    "    'CollegeMsg': 'CollegeMsg'\n",
    "}\n",
    "if not args.all_data:\n",
    "    assert args.data in datasets\n",
    "    datasets = [args.data,]\n",
    "else:\n",
    "    datasets = ['WIKI', 'Flights']\n",
    "\n",
    "total_matrices = []"
   ]
  },
  {
   "cell_type": "code",
   "execution_count": 18,
   "metadata": {},
   "outputs": [
    {
     "name": "stdout",
     "output_type": "stream",
     "text": [
      "num_nodes:  9228\n",
      "loading...\n",
      "4425.0 1.0 2.4562664476013767 1.0 7.0\n",
      "num_nodes:  13170\n",
      "loading...\n",
      "12557.0 2767.0 4694.774285327191 3419.0 6586.0\n"
     ]
    }
   ],
   "source": [
    "for data in datasets:\n",
    "    df = pd.read_csv('../DATA/{}/edges.csv'.format(data))\n",
    "    s = 'src' if 'src' in df.columns else 'u'\n",
    "    d = 'dst' if 'dst' in df.columns else 'i'\n",
    "    t = 'time' if 'time' in df.columns else 'ts'\n",
    "    num_nodes = max(int(df[s].max()), int(df[d].max())) + 1\n",
    "    print('num_nodes: ', num_nodes)\n",
    "    # BINS = 1000 if data in ['uci', 'CollegeMsg'] else 10000\n",
    "    BINS = int(min(10 ** int(np.log10(len(df)) - 1), 1e4)) if (args.bins == -1) else args.bins\n",
    "\n",
    "    file_path = f'../figures/data/{data}_recur_time.pkl'\n",
    "    if osp.exists(file_path):\n",
    "        print('loading...')\n",
    "        with open(file_path, 'rb') as f:\n",
    "            all_data = pickle.load(f)\n",
    "            ext_full_indptr, ext_full_indices, ext_full_ts, ext_full_eid = all_data['indptr'], \\\n",
    "            all_data['indices'], all_data['ts'], all_data['eid']\n",
    "            recur_matrix = all_data['recur']\n",
    "            min_ts, step = all_data['min_ts'], all_data['step']\n",
    "    else:\n",
    "        assert not args.all_data, 'Prepare data!'\n",
    "        print('sorting and analyzing...')\n",
    "        ext_full_indptr = np.zeros(num_nodes + 1, dtype=np.int32)\n",
    "        ext_full_indices = [[] for _ in range(num_nodes)]\n",
    "        ext_full_ts = [[] for _ in range(num_nodes)]\n",
    "        ext_full_eid = [[] for _ in range(num_nodes)]\n",
    "\n",
    "        for idx, row in tqdm(df.iterrows(), total=len(df)):\n",
    "            src = int(row[s])\n",
    "            dst = int(row[d])\n",
    "            \n",
    "            ext_full_indices[src].append(dst)\n",
    "            ext_full_ts[src].append(row[t])\n",
    "            ext_full_eid[src].append(idx)\n",
    "            \n",
    "            if args.add_reverse:\n",
    "                ext_full_indices[dst].append(src)\n",
    "                ext_full_ts[dst].append(row[t])\n",
    "                ext_full_eid[dst].append(idx)\n",
    "\n",
    "        for i in tqdm(range(num_nodes)):\n",
    "            ext_full_indptr[i + 1] = ext_full_indptr[i] + len(ext_full_indices[i])\n",
    "        tmp = np.array(list(itertools.chain(*ext_full_ts)))\n",
    "        min_ts = np.min(tmp)\n",
    "        max_ts = np.max(tmp)\n",
    "        print(f'Bins: {BINS}\\t Time span: {min_ts} - {max_ts}')\n",
    "        time_bins, step = np.linspace(min_ts, max_ts, BINS+1, retstep=True)\n",
    "        recur_matrices = []\n",
    "        color_dict = {}\n",
    "        recur_matrix = np.zeros((BINS+1, BINS+1))\n",
    "        for i in tqdm(range(num_nodes)):\n",
    "            tsort_original(i, ext_full_indices[i], ext_full_ts[i], ext_full_eid[i])\n",
    "            get_recurrence_quantification(i, True, min_ts, step, recur_matrix, color_dict)\n",
    "        with open(args.file_path, 'wb') as f:\n",
    "            all_data = {\n",
    "                'indptr': ext_full_indptr,\n",
    "                'indices': ext_full_indices,\n",
    "                'ts': ext_full_ts,\n",
    "                'eid': ext_full_eid,\n",
    "                'recur': recur_matrix,\n",
    "                'min_ts': min_ts,\n",
    "                'step': step\n",
    "            }\n",
    "            pickle.dump(all_data, f)\n",
    "\n",
    "    total_matrix = recur_matrix\n",
    "\n",
    "    ma, mi, me = np.max(total_matrix[total_matrix > 1e-6]), np.min(total_matrix[total_matrix > 1e-6]), np.mean(total_matrix[total_matrix > 1e-6])\n",
    "    p5 = np.percentile(total_matrix[total_matrix > 1e-6], 5)\n",
    "    p95 = np.percentile(total_matrix[total_matrix > 1e-6], 95)\n",
    "    print(ma, mi, me, p5, p95)\n",
    "    scalar = p95 - p5\n",
    "\n",
    "    total_matrix[(total_matrix > p95)] = p95 - 0.1\n",
    "    total_matrix[(total_matrix < p5) & (total_matrix > 1e-6)] = p5 + 0.1\n",
    "\n",
    "    total_matrices.append(total_matrix / scalar)\n"
   ]
  },
  {
   "cell_type": "code",
   "execution_count": 19,
   "metadata": {},
   "outputs": [
    {
     "name": "stdout",
     "output_type": "stream",
     "text": [
      "Plotting heatmap...\n",
      "Saving...\n"
     ]
    },
    {
     "name": "stderr",
     "output_type": "stream",
     "text": [
      "/tmp/ipykernel_3354006/1447329162.py:11: UserWarning: This figure includes Axes that are not compatible with tight_layout, so results might be incorrect.\n",
      "  fig.tight_layout()\n"
     ]
    },
    {
     "data": {
      "image/png": "[encoded data removed]",
      "text/plain": [
       "<Figure size 640x480 with 3 Axes>"
      ]
     },
     "metadata": {},
     "output_type": "display_data"
    }
   ],
   "source": [
    "fig, axes = plt.subplots(1, len(datasets), sharex=True, sharey=True)\n",
    "cbar_ax = fig.add_axes([0.99, .25, .03, .5])\n",
    "print('Plotting heatmap...')\n",
    "for i, ax in enumerate(axes.flat):\n",
    "    # sns.heatmap(total_matrices[i], vmin=0, vmax=1, ax=ax, cbar=(i==0), xticklabels=int(BINS/5), \n",
    "    #             yticklabels=int(BINS/5),square=True, cbar_ax=None if i else cbar_ax)\n",
    "    im = ax.matshow(total_matrices[i], vmin=0, vmax=1, cmap='rocket')\n",
    "    ax.set_title(f'{show_datasets[datasets[i]]}')\n",
    "fig.colorbar(im, cax=cbar_ax,)\n",
    "print('Saving...')\n",
    "fig.tight_layout()\n",
    "plt.savefig(f'../figures/recurrence/all_recurrence_analysis.pdf',bbox_inches='tight')"
   ]
  }
 ],
 "metadata": {
  "language_info": {
   "name": "python"
  }
 },
 "nbformat": 4,
 "nbformat_minor": 2
}

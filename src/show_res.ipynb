{
 "cells": [
  {
   "cell_type": "code",
   "execution_count": 41,
   "metadata": {},
   "outputs": [],
   "source": [
    "import os\n",
    "import pandas as pd\n",
    "import numpy as np\n",
    "import matplotlib.pyplot as plt\n",
    "import argparse\n",
    "# import openpyxl\n",
    "import pickle"
   ]
  },
  {
   "cell_type": "code",
   "execution_count": 3,
   "metadata": {},
   "outputs": [],
   "source": [
    "with open('../all_mrrs_0314.pkl', 'rb') as f:\n",
    "    all_data = pickle.load(f)"
   ]
  },
  {
   "cell_type": "code",
   "execution_count": 27,
   "metadata": {},
   "outputs": [
    {
     "name": "stdout",
     "output_type": "stream",
     "text": [
      "0.8079462000000002\n",
      "0.8548962\n",
      "0.8396758\n"
     ]
    }
   ],
   "source": [
    "print(np.mean(all_data['WIKI']['10x10']['TGAT']['re']['']))\n",
    "print(np.mean(all_data['WIKI']['2']['TGAT']['re']['gru']))\n",
    "print(np.mean(all_data['WIKI']['5']['TGAT']['re']['embed']))\n"
   ]
  },
  {
   "cell_type": "code",
   "execution_count": 22,
   "metadata": {},
   "outputs": [
    {
     "name": "stdout",
     "output_type": "stream",
     "text": [
      "0.8079462000000002\n",
      "0.7991284\n",
      "0.8008226\n",
      "0.7958296\n",
      "0.7928054\n"
     ]
    }
   ],
   "source": [
    "print(np.mean(all_data['WIKI']['10x10']['TGAT']['re']['']))\n",
    "print(np.mean(all_data['WIKI']['100']['TGAT']['re']['']))\n",
    "print(np.mean(all_data['WIKI']['5x10']['TGAT']['re']['']))\n",
    "print(np.mean(all_data['WIKI']['10x5']['TGAT']['re']['']))\n",
    "print(np.mean(all_data['WIKI']['50']['TGAT']['re']['']))"
   ]
  },
  {
   "cell_type": "code",
   "execution_count": 35,
   "metadata": {},
   "outputs": [
    {
     "name": "stdout",
     "output_type": "stream",
     "text": [
      "WIKI\n",
      "\t 0.8079462000000002\n",
      "\t 0.8617551999999999\n",
      "REDDIT\n",
      "\t 0.8327884000000001\n",
      "\t 0.8536020000000001\n",
      "Flights\n",
      "\t 0.5495304\n",
      "\t 0.827496\n",
      "LASTFM\n",
      "\t 0.3946722\n",
      "\t 0.49133519999999997\n",
      "mooc\n",
      "\t 0.18544780000000002\n",
      "\t 0.6011734\n"
     ]
    }
   ],
   "source": [
    "datasets = ['WIKI', 'REDDIT', 'Flights', 'LASTFM', 'mooc']\n",
    "for data in datasets:\n",
    "    print(data)\n",
    "    print('\\t', np.mean(all_data[data]['10x10']['TGAT']['re']['']))\n",
    "    print('\\t', max(np.mean(all_data[data]['5']['TGAT']['re']['embed']), np.mean(all_data[data]['5']['TGAT']['re']['gru'])))\n",
    "    # print('\\t', np.mean(all_data[data]['5']['TGAT']['re']['embed']))\n"
   ]
  },
  {
   "cell_type": "code",
   "execution_count": 39,
   "metadata": {},
   "outputs": [],
   "source": [
    "with open('../all_time_0318.pkl', 'rb') as f:\n",
    "    all_time = pickle.load(f)\n",
    "with open('../all_mrrs_0318.pkl', 'rb') as f:\n",
    "    all_data = pickle.load(f)\n"
   ]
  },
  {
   "cell_type": "code",
   "execution_count": 40,
   "metadata": {},
   "outputs": [
    {
     "name": "stdout",
     "output_type": "stream",
     "text": [
      "WIKI\n",
      "\t 5.04625593722454\n",
      "\t 4.322134546703296\n",
      "REDDIT\n",
      "\t 12.106357105429293\n",
      "\t 18.755791891298582\n",
      "Flights\n",
      "\t 30.83855653948104\n",
      "\t 33.555795521799936\n",
      "LASTFM\n",
      "\t 39.13809908887133\n",
      "\t 23.512569036181212\n",
      "mooc\n",
      "\t 6.981880000000001\n",
      "\t 7.920284210712149\n"
     ]
    }
   ],
   "source": [
    "datasets = ['WIKI', 'REDDIT', 'Flights', 'LASTFM', 'mooc']\n",
    "for data in datasets:\n",
    "    print(data)\n",
    "    print('\\t', np.mean(all_data[data]['40x40']['TGAT']['re']['']), np.mean(all_time[data]['40x40']['TGAT']['re']['']))\n",
    "    print('\\t', max(np.mean(all_time[data]['5']['TGAT']['re']['embed']), np.mean(all_time[data]['5']['TGAT']['re']['gru'])))\n",
    "    # print('\\t', np.mean(all_data[data]['5']['TGAT']['re']['embed']))\n"
   ]
  }
 ],
 "metadata": {
  "kernelspec": {
   "display_name": "atgnn",
   "language": "python",
   "name": "python3"
  },
  "language_info": {
   "codemirror_mode": {
    "name": "ipython",
    "version": 3
   },
   "file_extension": ".py",
   "mimetype": "text/x-python",
   "name": "python",
   "nbconvert_exporter": "python",
   "pygments_lexer": "ipython3",
   "version": "3.9.18"
  }
 },
 "nbformat": 4,
 "nbformat_minor": 2
}

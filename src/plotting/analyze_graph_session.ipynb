{
 "cells": [
  {
   "cell_type": "code",
   "execution_count": 1,
   "metadata": {},
   "outputs": [],
   "source": [
    "import argparse\n",
    "import itertools\n",
    "import pandas as pd\n",
    "import numpy as np\n",
    "import matplotlib.pyplot as plt\n",
    "import math\n",
    "from tqdm import tqdm\n",
    "import random\n",
    "from scipy.optimize import minimize\n",
    "from scipy.stats import norm\n",
    "\n",
    "BINS = 100\n",
    "\n",
    "plt.rcParams['font.family'] = 'Times New Roman'\n",
    "show_datasets = {\n",
    "    'WIKI': 'Wikipedia',\n",
    "    'REDDIT': 'REDDIT',\n",
    "    'Flights': 'Flights',\n",
    "    'LASTFM': 'LASTFM',\n",
    "    'mooc': 'MOOC',\n",
    "    'uci': 'UCI',\n",
    "    'CollegeMsg': 'CollegeMsg'\n",
    "}\n"
   ]
  },
  {
   "cell_type": "code",
   "execution_count": 2,
   "metadata": {},
   "outputs": [
    {
     "name": "stdout",
     "output_type": "stream",
     "text": [
      "Namespace(data='mooc', high_freq=False, add_reverse=False)\n"
     ]
    }
   ],
   "source": [
    "parser = argparse.ArgumentParser()\n",
    "parser.add_argument('--data', type=str, default='', help='dataset name')\n",
    "parser.add_argument('--high_freq', default=False, action='store_true')\n",
    "parser.add_argument('--add_reverse', default=False, action='store_true')\n",
    "\n",
    "args = parser.parse_args(['--data', 'mooc'])\n",
    "\n",
    "print(args)"
   ]
  },
  {
   "cell_type": "code",
   "execution_count": 3,
   "metadata": {},
   "outputs": [],
   "source": [
    "def get_inter_activity_time(src):\n",
    "    neighs, ts, eid  = ext_full_indices[src], ext_full_ts[src], ext_full_eid[src]\n",
    "    intervals = []\n",
    "    i = 0\n",
    "    while i < len(neighs):\n",
    "        ni = neighs[i]\n",
    "        j = i\n",
    "        while j < len(neighs)-1:\n",
    "            nj = neighs[j]\n",
    "            nk = neighs[j+1]\n",
    "            if (ni == nj and ni != nk):\n",
    "                intervals.append(ts[j] - ts[i])\n",
    "                break\n",
    "            elif j == len(neighs) - 2:\n",
    "                intervals.append(ts[j+1] - ts[i])\n",
    "                break\n",
    "            else:\n",
    "                j += 1\n",
    "            \n",
    "        i = j + 1\n",
    "    return intervals\n",
    "\n",
    "def get_activity_density(src):\n",
    "    neighs, ts, eid  = ext_full_indices[src], ext_full_ts[src], ext_full_eid[src]\n",
    "    intervals = []\n",
    "    i = 0\n",
    "    while i < len(neighs):\n",
    "        ni = neighs[i]\n",
    "        j = i\n",
    "        l = 0\n",
    "        while j < len(neighs)-1:\n",
    "            nj = neighs[j]\n",
    "            nk = neighs[j+1]\n",
    "            if (ni == nj and ni != nk):\n",
    "                intervals.append(j - i)\n",
    "                break\n",
    "            elif j == len(neighs) - 2:\n",
    "                intervals.append(j + 1 - i)\n",
    "                break\n",
    "            else:\n",
    "                j += 1\n",
    "        i = j + 1\n",
    "    return intervals\n",
    "    \n",
    "def tsort_original(i, indices, ts, eid):\n",
    "    if not len(indices):\n",
    "        return\n",
    "    try:\n",
    "        sidx = np.argsort(ts)\n",
    "        indices = np.array(indices)[sidx]\n",
    "        ts = np.array(ts)[sidx]\n",
    "        eid = np.array(eid)[sidx]\n",
    "    except TypeError:\n",
    "        import pdb; pdb.set_trace()\n",
    "\n",
    "# Bimodal distribution function\n",
    "def bimodal(x, mu1, sigma1, mu2, sigma2, weight1):\n",
    "    return weight1*norm.pdf(x, mu1, sigma1) + (1-weight1)*norm.pdf(x, mu2, sigma2)\n",
    "\n",
    "# Constraint function\n",
    "def tri_alpha_constraint(params):\n",
    "    # Assuming params[0] = alpha1, params[1] = alpha2\n",
    "    alpha1, alpha2 = params[-2], params[-1]\n",
    "    return 1 - (alpha1 + alpha2)  # This needs to be >= 0\n",
    "\n",
    "# Define the constraint dictionary\n",
    "cons = ({'type': 'ineq', 'fun': tri_alpha_constraint})\n",
    "\n",
    "# Bimodal distribution function\n",
    "def trimodal(x, mu1, sigma1, mu2, sigma2, mu3, sigma3, weight1, weight2 ):\n",
    "    return weight1*norm.pdf(x, mu1, sigma1) + weight2*norm.pdf(x, mu2, sigma2) + (1- weight1-weight2) *norm.pdf(x, mu3, sigma3)\n",
    "\n",
    "# Objective function to minimize (Sum of Squared Differences)\n",
    "def objective(params, bin_edges, counts):\n",
    "    mu1, sigma1, mu2, sigma2, weight1 = params\n",
    "    # Calculate the predicted counts for each bin\n",
    "    bin_centers = (bin_edges[:-1] + bin_edges[1:]) / 2\n",
    "    predicted_counts = bimodal(bin_centers, mu1, sigma1, mu2, sigma2, weight1) * sum(counts) * (bin_edges[1] - bin_edges[0])\n",
    "    # Calculate SSD\n",
    "    ssd = np.sum((counts - predicted_counts) ** 2)\n",
    "    return ssd\n",
    "\n",
    "# Objective function to minimize (Sum of Squared Differences)\n",
    "def objective3(params, bin_edges, counts):\n",
    "    mu1, sigma1, mu2, sigma2, mu3, sigma3, weight1, weight2 = params\n",
    "    # Calculate the predicted counts for each bin\n",
    "    bin_centers = (bin_edges[:-1] + bin_edges[1:]) / 2\n",
    "    predicted_counts = trimodal(bin_centers, mu1, sigma1, mu2, sigma2, mu3, sigma3, weight1, weight2) * sum(counts) * (bin_edges[1] - bin_edges[0])\n",
    "    # Calculate SSD\n",
    "    ssd = np.sum((counts - predicted_counts) ** 2)\n",
    "    return ssd"
   ]
  },
  {
   "cell_type": "code",
   "execution_count": 4,
   "metadata": {},
   "outputs": [
    {
     "name": "stdout",
     "output_type": "stream",
     "text": [
      "num_nodes:  9228\n"
     ]
    },
    {
     "name": "stderr",
     "output_type": "stream",
     "text": [
      "100%|██████████| 157474/157474 [00:01<00:00, 86914.87it/s]\n",
      "100%|██████████| 9228/9228 [00:00<00:00, 1118545.71it/s]\n"
     ]
    },
    {
     "name": "stdout",
     "output_type": "stream",
     "text": [
      "sorting and analyzing...\n"
     ]
    },
    {
     "name": "stderr",
     "output_type": "stream",
     "text": [
      "100%|██████████| 9228/9228 [00:00<00:00, 143433.80it/s]\n"
     ]
    },
    {
     "name": "stdout",
     "output_type": "stream",
     "text": [
      "num_nodes:  10985\n"
     ]
    },
    {
     "name": "stderr",
     "output_type": "stream",
     "text": [
      "100%|██████████| 672447/672447 [00:07<00:00, 85852.93it/s]\n",
      "100%|██████████| 10985/10985 [00:00<00:00, 1106707.09it/s]\n"
     ]
    },
    {
     "name": "stdout",
     "output_type": "stream",
     "text": [
      "sorting and analyzing...\n"
     ]
    },
    {
     "name": "stderr",
     "output_type": "stream",
     "text": [
      "100%|██████████| 10985/10985 [00:00<00:00, 52141.92it/s]\n"
     ]
    },
    {
     "name": "stdout",
     "output_type": "stream",
     "text": [
      "num_nodes:  13170\n"
     ]
    },
    {
     "name": "stderr",
     "output_type": "stream",
     "text": [
      "100%|██████████| 1927145/1927145 [00:22<00:00, 84971.65it/s]\n",
      "100%|██████████| 13170/13170 [00:00<00:00, 1099611.50it/s]\n"
     ]
    },
    {
     "name": "stdout",
     "output_type": "stream",
     "text": [
      "sorting and analyzing...\n"
     ]
    },
    {
     "name": "stderr",
     "output_type": "stream",
     "text": [
      "100%|██████████| 13170/13170 [00:00<00:00, 22456.82it/s]\n"
     ]
    },
    {
     "name": "stdout",
     "output_type": "stream",
     "text": [
      "num_nodes:  1980\n"
     ]
    },
    {
     "name": "stderr",
     "output_type": "stream",
     "text": [
      "100%|██████████| 1293103/1293103 [00:15<00:00, 84854.70it/s]\n",
      "100%|██████████| 1980/1980 [00:00<00:00, 1053764.99it/s]\n"
     ]
    },
    {
     "name": "stdout",
     "output_type": "stream",
     "text": [
      "sorting and analyzing...\n"
     ]
    },
    {
     "name": "stderr",
     "output_type": "stream",
     "text": [
      "100%|██████████| 1980/1980 [00:00<00:00, 4342.44it/s]\n"
     ]
    },
    {
     "name": "stdout",
     "output_type": "stream",
     "text": [
      "num_nodes:  1900\n"
     ]
    },
    {
     "name": "stderr",
     "output_type": "stream",
     "text": [
      "100%|██████████| 59835/59835 [00:00<00:00, 80129.48it/s]\n",
      "100%|██████████| 1900/1900 [00:00<00:00, 1019989.45it/s]\n"
     ]
    },
    {
     "name": "stdout",
     "output_type": "stream",
     "text": [
      "sorting and analyzing...\n"
     ]
    },
    {
     "name": "stderr",
     "output_type": "stream",
     "text": [
      "100%|██████████| 1900/1900 [00:00<00:00, 70508.72it/s]\n"
     ]
    }
   ],
   "source": [
    "datasets = ['WIKI', 'REDDIT',]\n",
    "\n",
    "dfs = []\n",
    "all_data = {}\n",
    "for i, data in enumerate(datasets):\n",
    "    dfs.append(pd.read_csv('../DATA/{}/edges.csv'.format(data)))\n",
    "    df = dfs[-1]\n",
    "    s = 'src' if 'src' in df.columns else 'u'\n",
    "    d = 'dst' if 'dst' in df.columns else 'i'\n",
    "    t = 'time' if 'time' in df.columns else 'ts'\n",
    "    num_nodes = max(int(df[s].max()), int(df[d].max())) + 1\n",
    "    print('num_nodes: ', num_nodes)\n",
    "    # import pdb; pdb.set_trace()\n",
    "    ext_full_indptr = np.zeros(num_nodes + 1, dtype=np.int32)\n",
    "    ext_full_indices = [[] for _ in range(num_nodes)]\n",
    "    ext_full_ts = [[] for _ in range(num_nodes)]\n",
    "    ext_full_eid = [[] for _ in range(num_nodes)]\n",
    "\n",
    "    for idx, row in tqdm(df.iterrows(), total=len(df)):\n",
    "        src = int(row[s])\n",
    "        dst = int(row[d])\n",
    "        \n",
    "        ext_full_indices[src].append(dst)\n",
    "        ext_full_ts[src].append(row[t])\n",
    "        ext_full_eid[src].append(idx)\n",
    "        \n",
    "        if args.add_reverse:\n",
    "            ext_full_indices[dst].append(src)\n",
    "            ext_full_ts[dst].append(row[t])\n",
    "            ext_full_eid[dst].append(idx)\n",
    "\n",
    "    for i in tqdm(range(num_nodes)):\n",
    "        ext_full_indptr[i + 1] = ext_full_indptr[i] + len(ext_full_indices[i])\n",
    "    \n",
    "    print('sorting and analyzing...')\n",
    "    t_inter_act = []\n",
    "    for i in tqdm(range(num_nodes)):\n",
    "        tsort_original(i, ext_full_indices[i], ext_full_ts[i], ext_full_eid[i])\n",
    "        t_inter_act += get_inter_activity_time(i)\n",
    "\n",
    "    t_inter_act = np.array(t_inter_act)\n",
    "\n",
    "    all_data[data] = {\n",
    "        'indptr': ext_full_indptr,\n",
    "        'indices': ext_full_indices,\n",
    "        'ts': ext_full_ts,\n",
    "        'eid': ext_full_eid,\n",
    "        't_inter': t_inter_act,\n",
    "    }"
   ]
  },
  {
   "cell_type": "code",
   "execution_count": 13,
   "metadata": {},
   "outputs": [
    {
     "name": "stdout",
     "output_type": "stream",
     "text": [
      "WIKI\n",
      "REDDIT\n"
     ]
    },
    {
     "data": {
      "image/png": "[encoded data removed]",
      "text/plain": [
       "<Figure size 500x400 with 2 Axes>"
      ]
     },
     "metadata": {},
     "output_type": "display_data"
    }
   ],
   "source": [
    "# row=len(['WIKI', 'uci', 'REDDIT', 'Flights', ])\n",
    "row=len(['WIKI', 'REDDIT', ])\n",
    "datasets = ['WIKI', 'REDDIT']\n",
    "fig, axes = plt.subplots(row, len(datasets)//row, figsize=(5, 4))\n",
    "for i, data in enumerate(datasets):\n",
    "    print(data)\n",
    "    ax = axes.flat[i]\n",
    "    df = dfs[i]\n",
    "    \n",
    "    ext_full_indptr, ext_full_indices, ext_full_ts, ext_full_eid, t_inter_act = all_data[data]['indptr'],\\\n",
    "    all_data[data]['indices'], all_data[data]['ts'], all_data[data]['eid'], all_data[data]['t_inter']\n",
    "    \n",
    "    p1 = np.percentile(t_inter_act, 0.01)\n",
    "    p99 = np.percentile(t_inter_act, 99.99)\n",
    "\n",
    "    filtered_data = t_inter_act[(t_inter_act > p1) & (t_inter_act < p99)]\n",
    "    x = pd.Series(filtered_data)\n",
    "\n",
    "    x_log = np.log10(x)\n",
    "    hist, bins = np.histogram(x_log, BINS, density=True)\n",
    "\n",
    "    if not args.high_freq:\n",
    "        initial_params = [2, 0.1, 5, 0.1, 0.5]\n",
    "        result = minimize(objective, initial_params, args=(bins, hist), bounds=[(0, 10), (0.01, 1e3), (0, 10), (0.01, 1e3), (0.2, 1)])\n",
    "        mu1, sigma1, mu2, sigma2, weight1 = result.x\n",
    "        normal1_pdf = norm.pdf(bins, mu1, sigma1) * weight1\n",
    "        normal2_pdf = norm.pdf(bins, mu2, sigma2) * (1 - weight1)\n",
    "        bimodal_pdf = bimodal(bins, mu1, sigma1, mu2, sigma2, weight1)\n",
    "        ax.plot(bins, bimodal_pdf, label='Fitted bimodal distribution', color='red', linewidth=1)\n",
    "        ax.plot(bins, normal1_pdf, label='Normal distribution 1', color='green', linestyle='--', linewidth=1)\n",
    "        ax.plot(bins, normal2_pdf, label='Normal distribution 2', color='blue', linestyle='--', linewidth=1)\n",
    "    else:\n",
    "        initial_params = [0, 0.1, 1, 0.1, 5, 0.1, 0.33, 0.33]\n",
    "        result = minimize(objective3, initial_params, args=(bins, hist), \n",
    "                        bounds=[(0, 10), (0.01, 1e3),(0, 10), (0.01, 1e3), (0, 10), (0.01, 1e3), (0.2, 1), (0.2, 1)],\n",
    "                        constraints=cons)\n",
    "        mu1, sigma1, mu2, sigma2, mu3, sigma3, weight1, weight2 = result.x\n",
    "        weight3 = 1 - weight1 - weight2\n",
    "        normal1_pdf = norm.pdf(bins, mu1, sigma1) * weight1\n",
    "        normal2_pdf = norm.pdf(bins, mu2, sigma2) * weight2\n",
    "        normal3_pdf = norm.pdf(bins, mu3, sigma3) * weight3\n",
    "        trimodal_pdf = trimodal(bins, mu1, sigma1, mu2, sigma2, mu3, sigma3, weight1, weight2)\n",
    "        ax.plot(bins, trimodal_pdf, label='Fitted bimodal distribution', color='red', linewidth=1)\n",
    "        ax.plot(bins, normal1_pdf, label='Normal distribution 1', color='green', linestyle='--', linewidth=1)\n",
    "        ax.plot(bins, normal2_pdf, label='Normal distribution 2', color='blue', linestyle='--', linewidth=1)\n",
    "        ax.plot(bins, normal3_pdf, label='Normal distribution 3', color='grey', linestyle='--', linewidth=1)\n",
    "    ax.hist(x_log, BINS, density=True, stacked=True, color='white', edgecolor=(0.5, 0.5, 0.5))\n",
    "    if data == 'Flights':\n",
    "        ax.set_xlabel(f'$\\log t$ (day)')\n",
    "    else:\n",
    "        ax.set_xlabel(f'$\\log t $ (second)')\n",
    "    ax.set_title(f'{show_datasets[data]}')\n",
    "plt.tight_layout()\n",
    "plt.savefig(f'../figures/session/all_sessions.pdf',bbox_inches='tight')"
   ]
  },
  {
   "cell_type": "code",
   "execution_count": 6,
   "metadata": {},
   "outputs": [
    {
     "ename": "NameError",
     "evalue": "name 'xlabel' is not defined",
     "output_type": "error",
     "traceback": [
      "\u001b[0;31m---------------------------------------------------------------------------\u001b[0m",
      "\u001b[0;31mNameError\u001b[0m                                 Traceback (most recent call last)",
      "Cell \u001b[0;32mIn[6], line 1\u001b[0m\n\u001b[0;32m----> 1\u001b[0m plt\u001b[38;5;241m.\u001b[39mxlabel(\u001b[43mxlabel\u001b[49m)\n\u001b[1;32m      2\u001b[0m plt\u001b[38;5;241m.\u001b[39mlegend()\n\u001b[1;32m      3\u001b[0m plt\u001b[38;5;241m.\u001b[39msuptitle(\u001b[38;5;124mf\u001b[39m\u001b[38;5;124m'\u001b[39m\u001b[38;5;132;01m{\u001b[39;00margs\u001b[38;5;241m.\u001b[39mdata\u001b[38;5;132;01m}\u001b[39;00m\u001b[38;5;124m session length distribution\u001b[39m\u001b[38;5;124m'\u001b[39m)\n",
      "\u001b[0;31mNameError\u001b[0m: name 'xlabel' is not defined"
     ]
    }
   ],
   "source": [
    "\n",
    "\n",
    "\n",
    "plt.xlabel(xlabel)\n",
    "plt.legend()\n",
    "plt.suptitle(f'{args.data} session length distribution')\n",
    "plt.tight_layout()\n",
    "if args.high_freq:\n",
    "    plt.savefig(f'figures/session/{args.data}_session_3.pdf')\n",
    "else:\n",
    "    plt.savefig(f'figures/session/{args.data}_session.pdf')\n"
   ]
  }
 ],
 "metadata": {
  "kernelspec": {
   "display_name": "atgnn",
   "language": "python",
   "name": "python3"
  },
  "language_info": {
   "codemirror_mode": {
    "name": "ipython",
    "version": 3
   },
   "file_extension": ".py",
   "mimetype": "text/x-python",
   "name": "python",
   "nbconvert_exporter": "python",
   "pygments_lexer": "ipython3",
   "version": "3.9.18"
  }
 },
 "nbformat": 4,
 "nbformat_minor": 2
}
